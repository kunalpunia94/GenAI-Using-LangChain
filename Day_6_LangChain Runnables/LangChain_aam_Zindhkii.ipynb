{
  "nbformat": 4,
  "nbformat_minor": 0,
  "metadata": {
    "colab": {
      "provenance": []
    },
    "kernelspec": {
      "name": "python3",
      "display_name": "Python 3"
    },
    "language_info": {
      "name": "python"
    }
  },
  "cells": [
    {
      "cell_type": "markdown",
      "source": [
        "We are going to make a LLM Components so that will be used by AI Engineer in the futur(just like a dummy components)"
      ],
      "metadata": {
        "id": "shVURK3sj-4L"
      }
    },
    {
      "cell_type": "code",
      "execution_count": 47,
      "metadata": {
        "id": "LsuGBuPPjxdF"
      },
      "outputs": [],
      "source": [
        "# component 1\n",
        "\n",
        "import random\n",
        "class NakhliLLM:\n",
        "  # constructor\n",
        "  def __init__(self):\n",
        "    print(\"LLM Created\")\n",
        "\n",
        "  def predict(self,prompt):\n",
        "    response_list = [\n",
        "        \"Delhi is the capital of india\",\n",
        "        \"IPL is the cricket league\",\n",
        "        \"AI stands for the Artificial Intelligence\"\n",
        "    ]\n",
        "    return {'response':random.choice(response_list)}"
      ]
    },
    {
      "cell_type": "code",
      "source": [
        "llm = NakhliLLM()"
      ],
      "metadata": {
        "colab": {
          "base_uri": "https://localhost:8080/"
        },
        "id": "0BvV98onk6jb",
        "outputId": "006f386b-04ad-467c-a788-f0a87ad7fc65"
      },
      "execution_count": 48,
      "outputs": [
        {
          "output_type": "stream",
          "name": "stdout",
          "text": [
            "LLM Created\n"
          ]
        }
      ]
    },
    {
      "cell_type": "code",
      "source": [
        "llm.predict(\"What is the capital of india\")"
      ],
      "metadata": {
        "colab": {
          "base_uri": "https://localhost:8080/"
        },
        "id": "T2-gAl6dllx_",
        "outputId": "9a931d78-df90-40ca-cbe4-09c7e9c51605"
      },
      "execution_count": 49,
      "outputs": [
        {
          "output_type": "execute_result",
          "data": {
            "text/plain": [
              "{'response': 'IPL is the cricket league'}"
            ]
          },
          "metadata": {},
          "execution_count": 49
        }
      ]
    },
    {
      "cell_type": "code",
      "source": [
        "# Component 2\n",
        "\n",
        "class NakhliPromptTemplate:\n",
        "  def __init__(self,template, input_variables):\n",
        "    self.template = template\n",
        "    self.input_variables = input_variables\n",
        "\n",
        "  def format(self,input_dict):\n",
        "    return self.template.format(**input_dict)"
      ],
      "metadata": {
        "id": "8uBqPsxnlrVr"
      },
      "execution_count": 50,
      "outputs": []
    },
    {
      "cell_type": "code",
      "source": [
        "template = NakhliPromptTemplate(\n",
        "    template = \"write a {length} peom about {topic}\",\n",
        "    input_variables=['length','topic']\n",
        ")"
      ],
      "metadata": {
        "id": "bIqZof0Hmgpx"
      },
      "execution_count": 51,
      "outputs": []
    },
    {
      "cell_type": "code",
      "source": [
        "prompt = template.format({'length':'short','topic':'india'})"
      ],
      "metadata": {
        "id": "xuz5ipJxmxJx"
      },
      "execution_count": 52,
      "outputs": []
    },
    {
      "cell_type": "code",
      "source": [
        "llm = NakhliLLM()"
      ],
      "metadata": {
        "colab": {
          "base_uri": "https://localhost:8080/"
        },
        "id": "yxFyMZcsm3fU",
        "outputId": "d0eaf1fb-27c2-4ba6-e5c5-ba68c2d14dd5"
      },
      "execution_count": 53,
      "outputs": [
        {
          "output_type": "stream",
          "name": "stdout",
          "text": [
            "LLM Created\n"
          ]
        }
      ]
    },
    {
      "cell_type": "code",
      "source": [
        "llm.predict(prompt)"
      ],
      "metadata": {
        "colab": {
          "base_uri": "https://localhost:8080/"
        },
        "id": "yAM5_jLYoPdQ",
        "outputId": "b229ed23-9fff-43a6-8201-3f712878be8c"
      },
      "execution_count": 54,
      "outputs": [
        {
          "output_type": "execute_result",
          "data": {
            "text/plain": [
              "{'response': 'IPL is the cricket league'}"
            ]
          },
          "metadata": {},
          "execution_count": 54
        }
      ]
    },
    {
      "cell_type": "markdown",
      "source": [
        "Below doing using the LLMChain"
      ],
      "metadata": {
        "id": "s-g0teylpVdv"
      }
    },
    {
      "cell_type": "code",
      "source": [
        "# Now let's build the chain which will add the prompt template and llm componets->nakhli\n",
        "class NakhliLLMChain:\n",
        "  def __init__(self, llm, prompt):\n",
        "    self.llm = llm\n",
        "    self.prompt = prompt\n",
        "\n",
        "  def run(self,input_dict):\n",
        "    final_prompt = self.prompt.format(input_dict)\n",
        "    result = self.llm.predict(final_prompt)\n",
        "\n",
        "    return result['response']"
      ],
      "metadata": {
        "id": "zYXw7j2IoVJl"
      },
      "execution_count": 55,
      "outputs": []
    },
    {
      "cell_type": "code",
      "source": [
        "  template = NakhliPromptTemplate(\n",
        "    template = \"write a {length} peom about {topic}\",\n",
        "    input_variables=['length','topic']\n",
        ")"
      ],
      "metadata": {
        "id": "JWNmqSi8pQqG"
      },
      "execution_count": 56,
      "outputs": []
    },
    {
      "cell_type": "code",
      "source": [
        "llm = NakhliLLM()"
      ],
      "metadata": {
        "colab": {
          "base_uri": "https://localhost:8080/"
        },
        "id": "3uClZ9i_pZ88",
        "outputId": "eb9db11f-356b-4582-e771-79a27f8aecbc"
      },
      "execution_count": 57,
      "outputs": [
        {
          "output_type": "stream",
          "name": "stdout",
          "text": [
            "LLM Created\n"
          ]
        }
      ]
    },
    {
      "cell_type": "code",
      "source": [
        "chain = NakhliLLMChain(llm,template)"
      ],
      "metadata": {
        "id": "732ajSqtphaS"
      },
      "execution_count": 58,
      "outputs": []
    },
    {
      "cell_type": "code",
      "source": [
        "chain.run({'length':'short','topic':'cricket'})"
      ],
      "metadata": {
        "colab": {
          "base_uri": "https://localhost:8080/",
          "height": 36
        },
        "id": "A0A8UYmcptXI",
        "outputId": "2113a2ae-1456-4e0f-a4c7-dced5d5b87bc"
      },
      "execution_count": 59,
      "outputs": [
        {
          "output_type": "execute_result",
          "data": {
            "text/plain": [
              "'IPL is the cricket league'"
            ],
            "application/vnd.google.colaboratory.intrinsic+json": {
              "type": "string"
            }
          },
          "metadata": {},
          "execution_count": 59
        }
      ]
    },
    {
      "cell_type": "markdown",
      "source": [
        "when we want to make two chains we need to do work differently it becmoes complex and that is problem so we learn the runnable to overcome this problem"
      ],
      "metadata": {
        "id": "vnnkrTRjqbbO"
      }
    },
    {
      "cell_type": "code",
      "source": [],
      "metadata": {
        "id": "VFABnqqtp0ZI"
      },
      "execution_count": 32,
      "outputs": []
    }
  ]
}