{
  "nbformat": 4,
  "nbformat_minor": 0,
  "metadata": {
    "colab": {
      "provenance": []
    },
    "kernelspec": {
      "name": "python3",
      "display_name": "Python 3"
    },
    "language_info": {
      "name": "python"
    }
  },
  "cells": [
    {
      "cell_type": "code",
      "source": [
        "!pip install -q langchain-openai langchain-community langchain-core requests duckduckgo-search"
      ],
      "metadata": {
        "colab": {
          "base_uri": "https://localhost:8080/"
        },
        "id": "T--ZlS4K19ZQ",
        "outputId": "33963c77-f75a-4f8c-b470-82e72227d983"
      },
      "execution_count": 2,
      "outputs": [
        {
          "output_type": "stream",
          "name": "stdout",
          "text": [
            "\u001b[?25l   \u001b[90m━━━━━━━━━━━━━━━━━━━━━━━━━━━━━━━━━━━━━━━━\u001b[0m \u001b[32m0.0/69.0 kB\u001b[0m \u001b[31m?\u001b[0m eta \u001b[36m-:--:--\u001b[0m\r\u001b[2K   \u001b[90m━━━━━━━━━━━━━━━━━━━━━━━━━━━━━━━━━━━━━━━━\u001b[0m \u001b[32m69.0/69.0 kB\u001b[0m \u001b[31m2.7 MB/s\u001b[0m eta \u001b[36m0:00:00\u001b[0m\n",
            "\u001b[2K   \u001b[90m━━━━━━━━━━━━━━━━━━━━━━━━━━━━━━━━━━━━━━━━\u001b[0m \u001b[32m2.5/2.5 MB\u001b[0m \u001b[31m39.7 MB/s\u001b[0m eta \u001b[36m0:00:00\u001b[0m\n",
            "\u001b[2K   \u001b[90m━━━━━━━━━━━━━━━━━━━━━━━━━━━━━━━━━━━━━━━━\u001b[0m \u001b[32m3.3/3.3 MB\u001b[0m \u001b[31m74.8 MB/s\u001b[0m eta \u001b[36m0:00:00\u001b[0m\n",
            "\u001b[2K   \u001b[90m━━━━━━━━━━━━━━━━━━━━━━━━━━━━━━━━━━━━━━━━\u001b[0m \u001b[32m44.4/44.4 kB\u001b[0m \u001b[31m2.7 MB/s\u001b[0m eta \u001b[36m0:00:00\u001b[0m\n",
            "\u001b[2K   \u001b[90m━━━━━━━━━━━━━━━━━━━━━━━━━━━━━━━━━━━━━━━━\u001b[0m \u001b[32m50.9/50.9 kB\u001b[0m \u001b[31m3.0 MB/s\u001b[0m eta \u001b[36m0:00:00\u001b[0m\n",
            "\u001b[?25h"
          ]
        }
      ]
    },
    {
      "cell_type": "code",
      "execution_count": 6,
      "metadata": {
        "id": "_H4w4Z9QvK-V"
      },
      "outputs": [],
      "source": [
        "from langchain_openai import ChatOpenAI\n",
        "from langchain_core.tools import tool\n",
        "import requests\n",
        "import os"
      ]
    },
    {
      "cell_type": "code",
      "source": [
        "os.environ[\"OPENAI_API_KEY\"] = \"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\"\n",
        "openai_base_url = \"https://openrouter.ai/api/v1\""
      ],
      "metadata": {
        "id": "mSHy6uz713pl"
      },
      "execution_count": 4,
      "outputs": []
    },
    {
      "cell_type": "code",
      "source": [
        "llm = ChatOpenAI(\n",
        "    openai_api_base=openai_base_url,\n",
        "    openai_api_key=os.environ[\"OPENAI_API_KEY\"],\n",
        "    model_name=\"deepseek/deepseek-chat-v3-0324:free\",\n",
        "    temperature=0.7\n",
        ")"
      ],
      "metadata": {
        "id": "otlkjfEd15gw"
      },
      "execution_count": 5,
      "outputs": []
    },
    {
      "cell_type": "code",
      "source": [
        "# till now we have imported the LLM and below we will make a simple AI Agent"
      ],
      "metadata": {
        "id": "LDzV1zx52FIJ"
      },
      "execution_count": 7,
      "outputs": []
    },
    {
      "cell_type": "code",
      "source": [
        "# using this below tool and testing\n",
        "from langchain_community.tools import DuckDuckGoSearchRun\n",
        "\n",
        "search_tool = DuckDuckGoSearchRun()\n",
        "\n",
        "result = search_tool.invoke(\"Top news in india today\")"
      ],
      "metadata": {
        "id": "uwTTnxXw5yoz"
      },
      "execution_count": 12,
      "outputs": []
    },
    {
      "cell_type": "code",
      "source": [
        "result"
      ],
      "metadata": {
        "colab": {
          "base_uri": "https://localhost:8080/",
          "height": 123
        },
        "id": "PU4D9aS_6Jjn",
        "outputId": "e7ef9483-4d85-448b-f5df-89fb598b31c2"
      },
      "execution_count": 13,
      "outputs": [
        {
          "output_type": "execute_result",
          "data": {
            "text/plain": [
              "\"India News | Latest India News | Read latest and breaking news from India. Today's top India news headlines, news on Indian politics, elections, government, business, technology, and Bollywood. Amid rising tensions between Iran and Israel, an evacuation flight carrying Indian nationals is expected to land in India. Investigations continue into the Air India Flight AI 171 crash ... Zee News brings latest news from India and World on breaking news, today news headlines, politics, business, technology, bollywood, entertainment, sports and others. Find exclusive news stories on Indian politics, current affairs, cricket matches, festivals and events Read all India news and breaking news today from India on politics, business, entertainment, technology, sports, lifestyle and more at CNBC TV18. Join Us. ... Top India News. Mumbai's Most Wanted: Madhukar Zende's riveting memoir captures the city's darkest era and its brightest grit. Jun 15, ... Latest News: Stay updated with the latest news from Mumbai, Delhi, Kolkata, Bengaluru, Hyderabad, Chennai, and across India and the world. Catch breaking news in India Today, top headlines, and live updates from Sports, Cricket, Business, Bollywood, Hollywood, and International news today.\""
            ],
            "application/vnd.google.colaboratory.intrinsic+json": {
              "type": "string"
            }
          },
          "metadata": {},
          "execution_count": 13
        }
      ]
    },
    {
      "cell_type": "code",
      "source": [
        "# test llm\n",
        "llm.invoke(\"Hello\")"
      ],
      "metadata": {
        "colab": {
          "base_uri": "https://localhost:8080/"
        },
        "id": "qhfY0G1x6KRt",
        "outputId": "4f14c63d-3b64-4319-ba64-89a95e6af868"
      },
      "execution_count": 14,
      "outputs": [
        {
          "output_type": "execute_result",
          "data": {
            "text/plain": [
              "AIMessage(content='Hello! 😊 How can I assist you today?', additional_kwargs={'refusal': None}, response_metadata={'token_usage': {'completion_tokens': 12, 'prompt_tokens': 4, 'total_tokens': 16, 'completion_tokens_details': None, 'prompt_tokens_details': None}, 'model_name': 'deepseek/deepseek-chat-v3-0324:free', 'system_fingerprint': None, 'id': 'gen-1750264801-IrwofBSPFXgv7Dz2lwcZ', 'service_tier': None, 'finish_reason': 'stop', 'logprobs': None}, id='run--295ada69-9424-4e06-8ab6-bfbc9151238c-0', usage_metadata={'input_tokens': 4, 'output_tokens': 12, 'total_tokens': 16, 'input_token_details': {}, 'output_token_details': {}})"
            ]
          },
          "metadata": {},
          "execution_count": 14
        }
      ]
    },
    {
      "cell_type": "code",
      "source": [
        "# now create the agent\n",
        "from langchain.agents import create_react_agent, AgentExecutor\n",
        "from langchain import hub"
      ],
      "metadata": {
        "id": "VbWMq_xf6ctx"
      },
      "execution_count": 15,
      "outputs": []
    },
    {
      "cell_type": "code",
      "source": [
        "# Step 2: Pull the ReAct prompt from LangChain Hub\n",
        "prompt = hub.pull(\"hwchase17/react\")  # pulls the standard ReAct agent prompt"
      ],
      "metadata": {
        "colab": {
          "base_uri": "https://localhost:8080/"
        },
        "id": "qB-MsRE76yVh",
        "outputId": "fe42dfb0-4c0f-4254-ee8b-83ca743e4a5c"
      },
      "execution_count": 16,
      "outputs": [
        {
          "output_type": "stream",
          "name": "stderr",
          "text": [
            "/usr/local/lib/python3.11/dist-packages/langsmith/client.py:272: LangSmithMissingAPIKeyWarning: API key must be provided when using hosted LangSmith API\n",
            "  warnings.warn(\n"
          ]
        }
      ]
    },
    {
      "cell_type": "code",
      "source": [
        "# Step 3: Create the ReAct agent manually with the pulled prompt\n",
        "agent = create_react_agent(\n",
        "    llm=llm,\n",
        "    tools=[search_tool],\n",
        "    prompt=prompt\n",
        ")"
      ],
      "metadata": {
        "id": "Wg8cFX8A6221"
      },
      "execution_count": 17,
      "outputs": []
    },
    {
      "cell_type": "code",
      "source": [
        "# Step 4: Wrap it with AgentExecutor\n",
        "agent_executor = AgentExecutor(\n",
        "    agent=agent,\n",
        "    tools=[search_tool],\n",
        "    verbose=True,\n",
        "    handle_parsing_errors=True\n",
        ")"
      ],
      "metadata": {
        "id": "kO1Jktcr7Kx1"
      },
      "execution_count": 20,
      "outputs": []
    },
    {
      "cell_type": "code",
      "source": [
        "# Step 5: Invoke\n",
        "response = agent_executor.invoke({\"input\": \"3 ways to reach goa from delhi\"})\n",
        "print(response)"
      ],
      "metadata": {
        "colab": {
          "base_uri": "https://localhost:8080/"
        },
        "id": "9uSKLpfT7OZ-",
        "outputId": "09170333-49b7-459b-81ef-bf08651b558f"
      },
      "execution_count": 21,
      "outputs": [
        {
          "output_type": "stream",
          "name": "stdout",
          "text": [
            "\n",
            "\n",
            "\u001b[1m> Entering new AgentExecutor chain...\u001b[0m\n",
            "\u001b[32;1m\u001b[1;3mTo find the best ways to travel from Delhi to Goa, I should look for the most common transportation options available such as flights, trains, and buses. \n",
            "\n",
            "Action: duckduckgo_search  \n",
            "Action Input: \"3 best ways to travel from Delhi to Goa\"\n",
            "\n",
            "\u001b[0m\u001b[36;1m\u001b[1;3mConclusion: The best and cheapest way to travel from Delhi to Goa. As all ways to travel to Goa has its benefits. However, if you want to select the best way to travel it could be the Air and Train journey. Goa travelling by flight options are best if budget is not an issue. Flight (Air) is the most convenient way to reach Goa from Delhi. A tourist destination, Goa can be reached by air, rail or road from Delhi. Flight; The quickest way to get to Goa from Delhi is by flight. A flight to Goa takes around 2 hours to reach. Fares are generally in the range of Rs.2,000 to Rs.3,000. However, during the peak tourist season, fares can go up. Bus; There are no direct buses to Goa from ... Best Budget Strategy: If you book flights early, they can be cheaper than AC trains. Otherwise, a Sleeper Class train ticket is the cheapest way to travel from Delhi to Goa. Final Travel Tips to Save Money Book flights & trains early - Last-minute tickets are expensive! Use UPI, Wallets, or Travel Credit Cards for discounts. This guide explains easy ways to travel from Delhi to Goa by air, train, and road. Find out what to expect on each route, from timing to comfort and cost. There are also tips to save money, spot great views, and avoid mistakes. ... Best For; Flight: 2.5 - 3.5: 4,000 - 10,000: Saving time: Train: 24 - 39: 800 - 3,500: Budget and scenery: Car/Bus ... The average Delhi to Goa train distance is 1900 km. It can vary as different trains have different speeds and stoppages. The intermediary stations between Delhi and Goa on the shortest route are Rewari, Mehsana, Ahmedabad, Vadodara, Surat, and Panvel. The minimum travel time between Delhi and Goa via train in 25 hours by Rajdhani.\u001b[0m\u001b[32;1m\u001b[1;3mBased on the search results, here are the three best ways to travel from Delhi to Goa:\n",
            "\n",
            "### 1. **Flight (Air Travel)**  \n",
            "   - **Time:** Approximately 2.5–3.5 hours.  \n",
            "   - **Cost:** ₹2,000–₹10,000 (varies based on season and booking time).  \n",
            "   - **Best For:** Saving time and convenience.  \n",
            "\n",
            "### 2. **Train**  \n",
            "   - **Time:** 24–39 hours depending on the train.  \n",
            "   - **Cost:** ₹800–₹3,500 (Sleeper to AC classes).  \n",
            "   - **Best For:** Budget travelers and scenic views.  \n",
            "   - **Popular Trains:** Rajdhani Express (fastest, ~25 hours).  \n",
            "\n",
            "### 3. **Bus/Road (Self-Drive or Bus)**  \n",
            "   - **Time:** ~30+ hours (depending on route and stops).  \n",
            "   - **Cost:** Varies (buses are cheaper but less comfortable than trains).  \n",
            "   - **Best For:** Flexibility and adventure (if driving).  \n",
            "\n",
            "**Tips:**  \n",
            "- Book flights/trains early for cheaper fares.  \n",
            "- Flights can sometimes be cheaper than AC trains if booked in advance.  \n",
            "- Trains offer a balance of cost and comfort for long journeys.  \n",
            "\n",
            "Let me know if you'd like details on specific flights, trains, or routes!\u001b[0mInvalid Format: Missing 'Action:' after 'Thought:'\u001b[32;1m\u001b[1;3mI now know the final answer. Here are the three best ways to travel from Delhi to Goa:  \n",
            "\n",
            "### **Final Answer:**  \n",
            "\n",
            "1. **By Flight (Air Travel)**  \n",
            "   - **Fastest option** (2.5–3.5 hours).  \n",
            "   - **Cost:** ₹2,000–₹10,000 (book early for best prices).  \n",
            "\n",
            "2. **By Train**  \n",
            "   - **Scenic and budget-friendly** (24–39 hours).  \n",
            "   - **Cost:** ₹800–₹3,500 (Sleeper to AC classes).  \n",
            "   - **Best trains:** Rajdhani Express (25 hours), Goa Express.  \n",
            "\n",
            "3. **By Road (Bus or Self-Drive)**  \n",
            "   - **Flexible but longest** (~30+ hours).  \n",
            "   - **Bus options:** Private/state-run (cheaper but less comfy).  \n",
            "   - **Self-drive:** NH48 route (adventurous but tiring).  \n",
            "\n",
            "**Pro Tip:** Flights are best for speed, trains for budget + comfort, and road trips for flexibility. Book early to save money!  \n",
            "\n",
            "Let me know if you need help with specific bookings or routes.\u001b[0m\n",
            "\n",
            "\u001b[1m> Finished chain.\u001b[0m\n",
            "{'input': '3 ways to reach goa from delhi', 'output': '**  \\n\\n1. **By Flight (Air Travel)**  \\n   - **Fastest option** (2.5–3.5 hours).  \\n   - **Cost:** ₹2,000–₹10,000 (book early for best prices).  \\n\\n2. **By Train**  \\n   - **Scenic and budget-friendly** (24–39 hours).  \\n   - **Cost:** ₹800–₹3,500 (Sleeper to AC classes).  \\n   - **Best trains:** Rajdhani Express (25 hours), Goa Express.  \\n\\n3. **By Road (Bus or Self-Drive)**  \\n   - **Flexible but longest** (~30+ hours).  \\n   - **Bus options:** Private/state-run (cheaper but less comfy).  \\n   - **Self-drive:** NH48 route (adventurous but tiring).  \\n\\n**Pro Tip:** Flights are best for speed, trains for budget + comfort, and road trips for flexibility. Book early to save money!  \\n\\nLet me know if you need help with specific bookings or routes.'}\n"
          ]
        }
      ]
    },
    {
      "cell_type": "code",
      "source": [
        "response['output']"
      ],
      "metadata": {
        "colab": {
          "base_uri": "https://localhost:8080/",
          "height": 105
        },
        "id": "75sIhYPv7nXn",
        "outputId": "2f702e31-498d-4f08-9e41-3f9404804b51"
      },
      "execution_count": 24,
      "outputs": [
        {
          "output_type": "execute_result",
          "data": {
            "text/plain": [
              "'**  \\n\\n1. **By Flight (Air Travel)**  \\n   - **Fastest option** (2.5–3.5 hours).  \\n   - **Cost:** ₹2,000–₹10,000 (book early for best prices).  \\n\\n2. **By Train**  \\n   - **Scenic and budget-friendly** (24–39 hours).  \\n   - **Cost:** ₹800–₹3,500 (Sleeper to AC classes).  \\n   - **Best trains:** Rajdhani Express (25 hours), Goa Express.  \\n\\n3. **By Road (Bus or Self-Drive)**  \\n   - **Flexible but longest** (~30+ hours).  \\n   - **Bus options:** Private/state-run (cheaper but less comfy).  \\n   - **Self-drive:** NH48 route (adventurous but tiring).  \\n\\n**Pro Tip:** Flights are best for speed, trains for budget + comfort, and road trips for flexibility. Book early to save money!  \\n\\nLet me know if you need help with specific bookings or routes.'"
            ],
            "application/vnd.google.colaboratory.intrinsic+json": {
              "type": "string"
            }
          },
          "metadata": {},
          "execution_count": 24
        }
      ]
    },
    {
      "cell_type": "code",
      "source": [],
      "metadata": {
        "id": "rFasVORC8Gxh"
      },
      "execution_count": null,
      "outputs": []
    },
    {
      "cell_type": "markdown",
      "source": [
        "### **Now let's imporve the same code with some api and weather report**"
      ],
      "metadata": {
        "id": "DeRXJhStH9qG"
      }
    },
    {
      "cell_type": "code",
      "source": [
        "@tool\n",
        "def get_weather_data(city: str) -> str:\n",
        "  \"\"\"\n",
        "  This function fetches the current weather data for a given city\n",
        "  \"\"\"\n",
        "  url = f'https://api.weatherstack.com/current?access_key=86faa70fe3d75ff753&query={city}'  #go to website and find again\n",
        "\n",
        "  response = requests.get(url)\n",
        "\n",
        "  return response.json()"
      ],
      "metadata": {
        "id": "yuJqLQbGIEg-"
      },
      "execution_count": 31,
      "outputs": []
    },
    {
      "cell_type": "code",
      "source": [
        "# Step 2: Pull the ReAct prompt from LangChain Hub\n",
        "prompt = hub.pull(\"hwchase17/react\")  # pulls the standard ReAct agent prompt\n"
      ],
      "metadata": {
        "colab": {
          "base_uri": "https://localhost:8080/"
        },
        "id": "RPLk7aRCISYx",
        "outputId": "08ca06a4-41ae-4340-f47d-14d0f9db51c1"
      },
      "execution_count": 32,
      "outputs": [
        {
          "output_type": "stream",
          "name": "stderr",
          "text": [
            "/usr/local/lib/python3.11/dist-packages/langsmith/client.py:272: LangSmithMissingAPIKeyWarning: API key must be provided when using hosted LangSmith API\n",
            "  warnings.warn(\n"
          ]
        }
      ]
    },
    {
      "cell_type": "code",
      "source": [
        "# Step 3: Create the ReAct agent manually with the pulled prompt\n",
        "agent = create_react_agent(\n",
        "    llm=llm,\n",
        "    tools=[search_tool, get_weather_data],\n",
        "    prompt=prompt\n",
        ")"
      ],
      "metadata": {
        "id": "ClE69-gCIUZo"
      },
      "execution_count": 33,
      "outputs": []
    },
    {
      "cell_type": "code",
      "source": [
        "# Step 4: Wrap it with AgentExecutor\n",
        "agent_executor = AgentExecutor(\n",
        "    agent=agent,\n",
        "    tools=[search_tool, get_weather_data],\n",
        "    verbose=True\n",
        ")"
      ],
      "metadata": {
        "id": "3QCVDaWnIV99"
      },
      "execution_count": 34,
      "outputs": []
    },
    {
      "cell_type": "code",
      "source": [
        "# Step 5: Invoke\n",
        "response = agent_executor.invoke({\"input\": \"Find the capital of Madhya Pradesh, then find it's current weather condition\"})\n",
        "print(response)"
      ],
      "metadata": {
        "colab": {
          "base_uri": "https://localhost:8080/"
        },
        "id": "4RMuCXQ9IXuE",
        "outputId": "4c4a1ad9-66cf-450a-efb4-1472faf3fbc3"
      },
      "execution_count": 35,
      "outputs": [
        {
          "output_type": "stream",
          "name": "stdout",
          "text": [
            "\n",
            "\n",
            "\u001b[1m> Entering new AgentExecutor chain...\u001b[0m\n",
            "\u001b[32;1m\u001b[1;3mFirst, I need to find the capital of Madhya Pradesh. Then, I will use the capital's name to find its current weather condition.\n",
            "\n",
            "Action: duckduckgo_search  \n",
            "Action Input: \"capital of Madhya Pradesh\"  \u001b[0m\u001b[36;1m\u001b[1;3mIndore (/ ɪ n ˈ d ɔːr / ⓘ; ISO: Indaura, Hindi: [ɪn̪d̪ɔːr]) is the largest and most populous city in the Indian state of Madhya Pradesh.The commercial capital of the state, it has been declared as the cleanest city of India 7 times in a row. [15] It is also considered the largest education hub in central India and houses campuses of both the Indian Institute of Technology and the ... Madhya Pradesh, state of India that is situated in the heart of the country. It has no coastline and no international frontier. Its physiography is characterized by low hills, extensive plateaus, and river valleys. The capital is Bhopal, in the west-central part of the state. Its capital is Bhopal, and Madhya Pradesh is the second-largest Indian state by area and the fifth-largest state by population with over 72 million residents. It borders the states of Uttar Pradesh, Chhattisgarh, Maharashtra, Gujarat, and Rajasthan. The economy of Madhya Pradesh is the 10th-largest in India and has the country's 26th-highest ... The name Indore is due to this diety. It is the largest city in Madhya Pradesh state in central India . It is among the million+ population cities of India with a population of 32,76,697 (2011). It is the commercial capital of the state of Madhya Pradesh. Indore city presents a happy blend of historical past and promises of rapid future ... Timeline of Key Changes in States and Capitals. Understanding the evolution of India's states adds depth to your knowledge: 2000: Creation of Jharkhand (from Bihar), Chhattisgarh (from Madhya Pradesh), and Uttarakhand (from Uttar Pradesh); 2014: Telangana was formed as the 29th state, carved out of Andhra Pradesh; 2019: Jammu & Kashmir was reorganized into two Union Territories— Jammu ...\u001b[0m\u001b[32;1m\u001b[1;3mThe search results mention both Bhopal and Indore. However, Bhopal is explicitly stated as the capital of Madhya Pradesh, while Indore is referred to as the largest and most populous city. Therefore, the capital is Bhopal. Now, I will find the current weather condition in Bhopal.\n",
            "\n",
            "Action: get_weather_data  \n",
            "Action Input: \"Bhopal\"  \u001b[0m\u001b[33;1m\u001b[1;3m{'request': {'type': 'City', 'query': 'Bhopal, India', 'language': 'en', 'unit': 'm'}, 'location': {'name': 'Bhopal', 'country': 'India', 'region': 'Madhya Pradesh', 'lat': '23.267', 'lon': '77.400', 'timezone_id': 'Asia/Kolkata', 'localtime': '2025-06-18 23:19', 'localtime_epoch': 1750288740, 'utc_offset': '5.50'}, 'current': {'observation_time': '05:49 PM', 'temperature': 27, 'weather_code': 116, 'weather_icons': ['https://cdn.worldweatheronline.com/images/wsymbols01_png_64/wsymbol_0004_black_low_cloud.png'], 'weather_descriptions': ['Partly cloudy'], 'astro': {'sunrise': '05:35 AM', 'sunset': '07:09 PM', 'moonrise': 'No moonrise', 'moonset': '11:51 AM', 'moon_phase': 'Last Quarter', 'moon_illumination': 59}, 'air_quality': {'co': '440.3', 'no2': '5.735', 'o3': '91', 'so2': '4.995', 'pm2_5': '17.945', 'pm10': '22.2', 'us-epa-index': '2', 'gb-defra-index': '2'}, 'wind_speed': 19, 'wind_degree': 210, 'wind_dir': 'SSW', 'pressure': 1001, 'precip': 0, 'humidity': 100, 'cloudcover': 50, 'feelslike': 30, 'uv_index': 0, 'visibility': 6, 'is_day': 'no'}}\u001b[0m\u001b[32;1m\u001b[1;3mI now have the current weather condition for Bhopal, the capital of Madhya Pradesh.\n",
            "\n",
            "Final Answer: The capital of Madhya Pradesh is Bhopal. The current weather in Bhopal is partly cloudy with a temperature of 27°C. The wind speed is 19 km/h coming from the SSW direction, humidity is at 100%, and the visibility is 6 km. It feels like 30°C outside. The air quality index is moderate.\u001b[0m\n",
            "\n",
            "\u001b[1m> Finished chain.\u001b[0m\n",
            "{'input': \"Find the capital of Madhya Pradesh, then find it's current weather condition\", 'output': 'The capital of Madhya Pradesh is Bhopal. The current weather in Bhopal is partly cloudy with a temperature of 27°C. The wind speed is 19 km/h coming from the SSW direction, humidity is at 100%, and the visibility is 6 km. It feels like 30°C outside. The air quality index is moderate.'}\n"
          ]
        }
      ]
    },
    {
      "cell_type": "code",
      "source": [
        "response['output']"
      ],
      "metadata": {
        "colab": {
          "base_uri": "https://localhost:8080/",
          "height": 53
        },
        "id": "6UTTkrutIY4l",
        "outputId": "f7c40688-5176-4f44-c49e-a218a1393f86"
      },
      "execution_count": 36,
      "outputs": [
        {
          "output_type": "execute_result",
          "data": {
            "text/plain": [
              "'The capital of Madhya Pradesh is Bhopal. The current weather in Bhopal is partly cloudy with a temperature of 27°C. The wind speed is 19 km/h coming from the SSW direction, humidity is at 100%, and the visibility is 6 km. It feels like 30°C outside. The air quality index is moderate.'"
            ],
            "application/vnd.google.colaboratory.intrinsic+json": {
              "type": "string"
            }
          },
          "metadata": {},
          "execution_count": 36
        }
      ]
    },
    {
      "cell_type": "code",
      "source": [],
      "metadata": {
        "id": "6UFd3jUJIt8A"
      },
      "execution_count": null,
      "outputs": []
    }
  ]
}